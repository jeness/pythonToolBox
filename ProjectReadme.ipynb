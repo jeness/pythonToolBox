{
 "metadata": {
  "name": "",
  "signature": "sha256:7f192fb97286b4c3a0f5c37f047ba8e7cad9294e31310ed4876012463cce0557"
 },
 "nbformat": 3,
 "nbformat_minor": 0,
 "worksheets": [
  {
   "cells": [
    {
     "cell_type": "markdown",
     "metadata": {},
     "source": [
      "#import packages"
     ]
    },
    {
     "cell_type": "code",
     "collapsed": false,
     "input": [
      "# -*- coding:utf-8 -*-\n",
      "# different statistic values expression and calculation\n",
      "from __future__ import division\n",
      "import pandas as pd\n",
      "import numpy as np\n",
      "from scipy import stats\n",
      "import timeit"
     ],
     "language": "python",
     "metadata": {},
     "outputs": [],
     "prompt_number": 1
    },
    {
     "cell_type": "markdown",
     "metadata": {},
     "source": [
      "##0.Read Data | dataset: https://www.kaggle.com/c/santander-customer-satisfaction"
     ]
    },
    {
     "cell_type": "code",
     "collapsed": false,
     "input": [
      "df = pd.read_csv('train.csv')\n",
      "label = df['TARGET']\n",
      "df = df.drop(['ID', 'TARGET'], axis=1)"
     ],
     "language": "python",
     "metadata": {},
     "outputs": [],
     "prompt_number": 2
    },
    {
     "cell_type": "code",
     "collapsed": false,
     "input": [
      "df.shape"
     ],
     "language": "python",
     "metadata": {},
     "outputs": [
      {
       "metadata": {},
       "output_type": "pyout",
       "prompt_number": 3,
       "text": [
        "(76020, 369)"
       ]
      }
     ],
     "prompt_number": 3
    },
    {
     "cell_type": "markdown",
     "metadata": {},
     "source": [
      "## 1.Set Missing Value"
     ]
    },
    {
     "cell_type": "code",
     "collapsed": false,
     "input": [
      "missSet = [np.nan, 9999999999, -999999]"
     ],
     "language": "python",
     "metadata": {},
     "outputs": [],
     "prompt_number": 4
    },
    {
     "cell_type": "markdown",
     "metadata": {},
     "source": [
      "## 2.Count Distinct"
     ]
    },
    {
     "cell_type": "code",
     "collapsed": false,
     "input": [
      "start = timeit.default_timer()\n",
      "len(df.iloc[:, 0].unique())\n",
      "\n",
      "count_un = df.iloc[:, 0:3].apply(lambda x:len(x.unique()))\n",
      "print('Count Running Time: %fs' % (timeit.default_timer() - start))"
     ],
     "language": "python",
     "metadata": {},
     "outputs": [
      {
       "output_type": "stream",
       "stream": "stdout",
       "text": [
        "Count Running Time: 0.040884s\n"
       ]
      }
     ],
     "prompt_number": 5
    },
    {
     "cell_type": "code",
     "collapsed": false,
     "input": [
      "count_un"
     ],
     "language": "python",
     "metadata": {},
     "outputs": [
      {
       "metadata": {},
       "output_type": "pyout",
       "prompt_number": 6,
       "text": [
        "var3                  208\n",
        "var15                 100\n",
        "imp_ent_var16_ult1    596\n",
        "dtype: int64"
       ]
      }
     ],
     "prompt_number": 6
    },
    {
     "cell_type": "markdown",
     "metadata": {},
     "source": [
      "## 3.Zero Values"
     ]
    },
    {
     "cell_type": "code",
     "collapsed": false,
     "input": [
      "start = timeit.default_timer()\n",
      "np.sum(df.iloc[:,0] == 0)\n",
      "\n",
      "count_zero = df.iloc[:, 0:3].apply(lambda x:np.sum(x == 0))\n",
      "print('Count Zero Running Time: %fs' % (timeit.default_timer() - start))"
     ],
     "language": "python",
     "metadata": {},
     "outputs": [
      {
       "output_type": "stream",
       "stream": "stdout",
       "text": [
        "Count Zero Running Time: 0.040131s\n"
       ]
      }
     ],
     "prompt_number": 7
    },
    {
     "cell_type": "code",
     "collapsed": false,
     "input": [
      "count_zero"
     ],
     "language": "python",
     "metadata": {},
     "outputs": [
      {
       "metadata": {},
       "output_type": "pyout",
       "prompt_number": 8,
       "text": [
        "var3                     75\n",
        "var15                     0\n",
        "imp_ent_var16_ult1    72301\n",
        "dtype: int64"
       ]
      }
     ],
     "prompt_number": 8
    },
    {
     "cell_type": "markdown",
     "metadata": {},
     "source": [
      "## 4.Mean Values"
     ]
    },
    {
     "cell_type": "code",
     "collapsed": false,
     "input": [
      "start = timeit.default_timer()\n",
      "np.mean(df.iloc[:, 0]) # \u6ca1\u6709\u53bb\u9664\u7f3a\u5931\u503c\u4e4b\u524d\u7684\u5747\u503c\u5f88\u4f4e\n",
      "\n",
      "df.iloc[:,0][~np.isin(df.iloc[:,0], missSet)] # \u53bb\u9664\u7f3a\u5931\u503c\n",
      "np.mean(df.iloc[:,0][~np.isin(df.iloc[:,0], missSet)]) # \u53bb\u9664\u7f3a\u5931\u503c\u540e\u7684\u5747\u503c\u8ba1\u7b97\n",
      "\n",
      "df_mean = df.iloc[:,0:3].apply(lambda x:np.mean(x[~np.isin(x, missSet)]))\n",
      "print('Mean Running Time: %fs' % (timeit.default_timer() - start))"
     ],
     "language": "python",
     "metadata": {},
     "outputs": [
      {
       "output_type": "stream",
       "stream": "stdout",
       "text": [
        "Mean Running Time: 0.044938s\n"
       ]
      }
     ],
     "prompt_number": 9
    },
    {
     "cell_type": "code",
     "collapsed": false,
     "input": [
      "df_mean"
     ],
     "language": "python",
     "metadata": {},
     "outputs": [
      {
       "metadata": {},
       "output_type": "pyout",
       "prompt_number": 10,
       "text": [
        "var3                   2.717577\n",
        "var15                 33.212865\n",
        "imp_ent_var16_ult1    86.208265\n",
        "dtype: float64"
       ]
      }
     ],
     "prompt_number": 10
    },
    {
     "cell_type": "markdown",
     "metadata": {},
     "source": [
      "## 5.Median Values"
     ]
    },
    {
     "cell_type": "code",
     "collapsed": false,
     "input": [
      "start = timeit.default_timer()\n",
      "np.median(df.iloc[:,0])\n",
      "\n",
      "df.iloc[:,0][~np.isin(df.iloc[:,0], missSet)]# \u53bb\u9664\u7f3a\u5931\u503c\n",
      "np.median(df.iloc[:,0][~np.isin(df.iloc[:,0], missSet)])# \u53bb\u9664\u7f3a\u5931\u503c\u540e\u7684\u5747\u503c\u8ba1\u7b97\n",
      "\n",
      "df_median = df.iloc[:,0:3].apply(lambda x:np.median(x[~np.isin(x, missSet)]))\n",
      "print('Median Running Time: %fs' % (timeit.default_timer() - start))"
     ],
     "language": "python",
     "metadata": {},
     "outputs": [
      {
       "output_type": "stream",
       "stream": "stdout",
       "text": [
        "Median Running Time: 0.030604s\n"
       ]
      }
     ],
     "prompt_number": 11
    },
    {
     "cell_type": "code",
     "collapsed": false,
     "input": [
      "df_median"
     ],
     "language": "python",
     "metadata": {},
     "outputs": [
      {
       "metadata": {},
       "output_type": "pyout",
       "prompt_number": 12,
       "text": [
        "var3                   2.0\n",
        "var15                 28.0\n",
        "imp_ent_var16_ult1     0.0\n",
        "dtype: float64"
       ]
      }
     ],
     "prompt_number": 12
    },
    {
     "cell_type": "markdown",
     "metadata": {},
     "source": [
      "## 6.Mode Values#In Column 0 - Colum 2, which is the mode value"
     ]
    },
    {
     "cell_type": "code",
     "collapsed": false,
     "input": [
      "start = timeit.default_timer()\n",
      "df_mode_count = df.apply(lambda x: stats.mode(x[~np.isin(x, missSet)])[1][0])\n",
      "print('Mode Running Time: %fs' % (timeit.default_timer() - start))"
     ],
     "language": "python",
     "metadata": {},
     "outputs": [
      {
       "output_type": "stream",
       "stream": "stdout",
       "text": [
        "Mode Running Time: 146.846367s\n"
       ]
      }
     ],
     "prompt_number": 13
    },
    {
     "cell_type": "code",
     "collapsed": false,
     "input": [
      "df_mode_count"
     ],
     "language": "python",
     "metadata": {},
     "outputs": [
      {
       "metadata": {},
       "output_type": "pyout",
       "prompt_number": 14,
       "text": [
        "var3                             74165\n",
        "var15                            20170\n",
        "imp_ent_var16_ult1               72301\n",
        "imp_op_var39_comer_ult1          66075\n",
        "imp_op_var39_comer_ult3          64330\n",
        "imp_op_var40_comer_ult1          75725\n",
        "imp_op_var40_comer_ult3          75672\n",
        "imp_op_var40_efect_ult1          75982\n",
        "imp_op_var40_efect_ult3          75975\n",
        "imp_op_var40_ult1                75791\n",
        "imp_op_var41_comer_ult1          66226\n",
        "imp_op_var41_comer_ult3          64480\n",
        "imp_op_var41_efect_ult1          69336\n",
        "imp_op_var41_efect_ult3          67372\n",
        "imp_op_var41_ult1                64388\n",
        "imp_op_var39_efect_ult1          69325\n",
        "imp_op_var39_efect_ult3          67360\n",
        "imp_op_var39_ult1                64271\n",
        "imp_sal_var16_ult1               75924\n",
        "ind_var1_0                       75149\n",
        "ind_var1                         75734\n",
        "ind_var2_0                       76020\n",
        "ind_var2                         76020\n",
        "ind_var5_0                       72829\n",
        "ind_var5                         50459\n",
        "ind_var6_0                       76012\n",
        "ind_var6                         76018\n",
        "ind_var8_0                       73524\n",
        "ind_var8                         73846\n",
        "ind_var12_0                      70887\n",
        "                                 ...  \n",
        "saldo_medio_var12_ult3           72544\n",
        "saldo_medio_var13_corto_hace2    73047\n",
        "saldo_medio_var13_corto_hace3    74657\n",
        "saldo_medio_var13_corto_ult1     72836\n",
        "saldo_medio_var13_corto_ult3     72836\n",
        "saldo_medio_var13_largo_hace2    75532\n",
        "saldo_medio_var13_largo_hace3    75722\n",
        "saldo_medio_var13_largo_ult1     75483\n",
        "saldo_medio_var13_largo_ult3     75483\n",
        "saldo_medio_var13_medio_hace2    76018\n",
        "saldo_medio_var13_medio_hace3    76020\n",
        "saldo_medio_var13_medio_ult1     76018\n",
        "saldo_medio_var13_medio_ult3     76018\n",
        "saldo_medio_var17_hace2          75930\n",
        "saldo_medio_var17_hace3          76003\n",
        "saldo_medio_var17_ult1           75902\n",
        "saldo_medio_var17_ult3           75902\n",
        "saldo_medio_var29_hace2          76016\n",
        "saldo_medio_var29_hace3          76019\n",
        "saldo_medio_var29_ult1           76017\n",
        "saldo_medio_var29_ult3           76017\n",
        "saldo_medio_var33_hace2          75977\n",
        "saldo_medio_var33_hace3          75996\n",
        "saldo_medio_var33_ult1           75972\n",
        "saldo_medio_var33_ult3           75972\n",
        "saldo_medio_var44_hace2          75921\n",
        "saldo_medio_var44_hace3          75988\n",
        "saldo_medio_var44_ult1           75879\n",
        "saldo_medio_var44_ult3           75879\n",
        "var38                            14868\n",
        "Length: 369, dtype: int64"
       ]
      }
     ],
     "prompt_number": 14
    },
    {
     "cell_type": "markdown",
     "metadata": {},
     "source": [
      "## 7.Mode Percentage#In Column 0 - Colum 2, what is the percentage when mode value occurs?"
     ]
    },
    {
     "cell_type": "code",
     "collapsed": false,
     "input": [
      "start = timeit.default_timer()\n",
      "df_mode_count = df.iloc[:,0:3].apply(lambda x: stats.mode(x[~np.isin(x, missSet)])[1][0])\n",
      "df_mode_perct = df_mode_count/df.shape[0]\n",
      "print('Mode Percentage Running Time: %fs' % (timeit.default_timer() - start))"
     ],
     "language": "python",
     "metadata": {},
     "outputs": [
      {
       "output_type": "stream",
       "stream": "stdout",
       "text": [
        "Mode Percentage Running Time: 0.567918s\n"
       ]
      }
     ],
     "prompt_number": 15
    },
    {
     "cell_type": "code",
     "collapsed": false,
     "input": [
      "df_mode_count"
     ],
     "language": "python",
     "metadata": {},
     "outputs": [
      {
       "metadata": {},
       "output_type": "pyout",
       "prompt_number": 16,
       "text": [
        "var3                  74165\n",
        "var15                 20170\n",
        "imp_ent_var16_ult1    72301\n",
        "dtype: int64"
       ]
      }
     ],
     "prompt_number": 16
    },
    {
     "cell_type": "code",
     "collapsed": false,
     "input": [
      "df_mode_perct"
     ],
     "language": "python",
     "metadata": {},
     "outputs": [
      {
       "metadata": {},
       "output_type": "pyout",
       "prompt_number": 17,
       "text": [
        "var3                  0.975599\n",
        "var15                 0.265325\n",
        "imp_ent_var16_ult1    0.951079\n",
        "dtype: float64"
       ]
      }
     ],
     "prompt_number": 17
    },
    {
     "cell_type": "markdown",
     "metadata": {},
     "source": [
      "## 8. Min Value"
     ]
    },
    {
     "cell_type": "code",
     "collapsed": false,
     "input": [
      "start = timeit.default_timer()\n",
      "np.min(df.iloc[:,0])\n",
      "\n",
      "df.iloc[:,0][~np.isin(df.iloc[:,0], missSet)]# \u53bb\u9664\u7f3a\u5931\u503c\n",
      "np.min(df.iloc[:,0][~np.isin(df.iloc[:,0], missSet)])# \u53bb\u9664\u7f3a\u5931\u503c\u4e4b\u540e\u8fdb\u884c\u6700\u5c0f\u503c\u8ba1\u7b97\n",
      "\n",
      "df_min = df.iloc[:, 0:3].apply(lambda x:np.min(x[~np.isin(x, missSet)]))\n",
      "print('Min Percentage Running Time: %fs' % (timeit.default_timer() - start))"
     ],
     "language": "python",
     "metadata": {},
     "outputs": [
      {
       "output_type": "stream",
       "stream": "stdout",
       "text": [
        "Min Percentage Running Time: 0.056371s\n"
       ]
      }
     ],
     "prompt_number": 18
    },
    {
     "cell_type": "code",
     "collapsed": false,
     "input": [
      "df_min"
     ],
     "language": "python",
     "metadata": {},
     "outputs": [
      {
       "metadata": {},
       "output_type": "pyout",
       "prompt_number": 19,
       "text": [
        "var3                  0.0\n",
        "var15                 5.0\n",
        "imp_ent_var16_ult1    0.0\n",
        "dtype: float64"
       ]
      }
     ],
     "prompt_number": 19
    },
    {
     "cell_type": "markdown",
     "metadata": {},
     "source": [
      "## 9. Max Value"
     ]
    },
    {
     "cell_type": "code",
     "collapsed": false,
     "input": [
      "start = timeit.default_timer()\n",
      "np.max(df.iloc[:,0])\n",
      "\n",
      "df.iloc[:,0][~np.isin(df.iloc[:,0], missSet)]# \u53bb\u9664\u7f3a\u5931\u503c\n",
      "np.max(df.iloc[:,0][~np.isin(df.iloc[:,0], missSet)])# \u53bb\u9664\u7f3a\u5931\u503c\u4e4b\u540e\u8fdb\u884c\u6700\u5927\u503c\u8ba1\u7b97\n",
      "\n",
      "df_max = df.iloc[:, 0:3].apply(lambda x:np.max(x[~np.isin(x, missSet)]))\n",
      "print('Max Percentage Running Time: %fs' % (timeit.default_timer() - start))"
     ],
     "language": "python",
     "metadata": {},
     "outputs": [
      {
       "output_type": "stream",
       "stream": "stdout",
       "text": [
        "Max Percentage Running Time: 0.041710s\n"
       ]
      }
     ],
     "prompt_number": 20
    },
    {
     "cell_type": "code",
     "collapsed": false,
     "input": [
      "df_max"
     ],
     "language": "python",
     "metadata": {},
     "outputs": [
      {
       "metadata": {},
       "output_type": "pyout",
       "prompt_number": 21,
       "text": [
        "var3                     238.0\n",
        "var15                    105.0\n",
        "imp_ent_var16_ult1    210000.0\n",
        "dtype: float64"
       ]
      }
     ],
     "prompt_number": 21
    },
    {
     "cell_type": "markdown",
     "metadata": {},
     "source": [
      "## 10. quantile values"
     ]
    },
    {
     "cell_type": "code",
     "collapsed": false,
     "input": [
      "start = timeit.default_timer()\n",
      "np.percentile(df.iloc[:,0], (1,5,25,50,75,95,99))\n",
      "\n",
      "df.iloc[:,0][~np.isin(df.iloc[:,0], missSet)]# \u53bb\u9664\u7f3a\u5931\u503c\n",
      "np.percentile(df.iloc[:,0][~np.isin(df.iloc[:,0], missSet)], (1,5,25,50,75,95,99))\n",
      "\n",
      "json_quantile = {}\n",
      "\n",
      "for i,name in enumerate(df.iloc[:,0:3].columns):\n",
      "    print('the %d columns: %s' %(i,name))\n",
      "    json_quantile[name] = np.percentile(df[name][~np.isin(df[name], missSet)], (1,5,25,50,75,95,99))\n",
      "\n",
      "df_quantife = pd.DataFrame(json_quantile)[df.iloc[:,0:3].columns].T #\u6307\u5b9a\u540d\u5b57\u653e\u5165\n",
      "print('quantile Percentage Running Time: %fs' % (timeit.default_timer() - start))"
     ],
     "language": "python",
     "metadata": {},
     "outputs": [
      {
       "output_type": "stream",
       "stream": "stdout",
       "text": [
        "the 0 columns: var3\n",
        "the 1 columns: var15\n",
        "the 2 columns: imp_ent_var16_ult1\n",
        "quantile Percentage Running Time: 0.054421s\n"
       ]
      }
     ],
     "prompt_number": 22
    },
    {
     "cell_type": "code",
     "collapsed": false,
     "input": [
      "df_quantife"
     ],
     "language": "python",
     "metadata": {},
     "outputs": [
      {
       "html": [
        "<div style=\"max-width:1500px;overflow:auto;\">\n",
        "<style>\n",
        "    .dataframe thead tr:only-child th {\n",
        "        text-align: right;\n",
        "    }\n",
        "\n",
        "    .dataframe thead th {\n",
        "        text-align: left;\n",
        "    }\n",
        "\n",
        "    .dataframe tbody tr th {\n",
        "        vertical-align: top;\n",
        "    }\n",
        "</style>\n",
        "<table border=\"1\" class=\"dataframe\">\n",
        "  <thead>\n",
        "    <tr style=\"text-align: right;\">\n",
        "      <th></th>\n",
        "      <th>0</th>\n",
        "      <th>1</th>\n",
        "      <th>2</th>\n",
        "      <th>3</th>\n",
        "      <th>4</th>\n",
        "      <th>5</th>\n",
        "      <th>6</th>\n",
        "    </tr>\n",
        "  </thead>\n",
        "  <tbody>\n",
        "    <tr>\n",
        "      <th>var3</th>\n",
        "      <td>2.0</td>\n",
        "      <td>2.0</td>\n",
        "      <td>2.0</td>\n",
        "      <td>2.0</td>\n",
        "      <td>2.0</td>\n",
        "      <td>2.0</td>\n",
        "      <td>11.0</td>\n",
        "    </tr>\n",
        "    <tr>\n",
        "      <th>var15</th>\n",
        "      <td>22.0</td>\n",
        "      <td>23.0</td>\n",
        "      <td>23.0</td>\n",
        "      <td>28.0</td>\n",
        "      <td>40.0</td>\n",
        "      <td>60.0</td>\n",
        "      <td>77.0</td>\n",
        "    </tr>\n",
        "    <tr>\n",
        "      <th>imp_ent_var16_ult1</th>\n",
        "      <td>0.0</td>\n",
        "      <td>0.0</td>\n",
        "      <td>0.0</td>\n",
        "      <td>0.0</td>\n",
        "      <td>0.0</td>\n",
        "      <td>0.0</td>\n",
        "      <td>1500.0</td>\n",
        "    </tr>\n",
        "  </tbody>\n",
        "</table>\n",
        "</div>"
       ],
       "metadata": {},
       "output_type": "pyout",
       "prompt_number": 23,
       "text": [
        "                       0     1     2     3     4     5       6\n",
        "var3                 2.0   2.0   2.0   2.0   2.0   2.0    11.0\n",
        "var15               22.0  23.0  23.0  28.0  40.0  60.0    77.0\n",
        "imp_ent_var16_ult1   0.0   0.0   0.0   0.0   0.0   0.0  1500.0"
       ]
      }
     ],
     "prompt_number": 23
    },
    {
     "cell_type": "markdown",
     "metadata": {},
     "source": [
      "## 11. Frequent Values"
     ]
    },
    {
     "cell_type": "code",
     "collapsed": false,
     "input": [
      "start = timeit.default_timer()\n",
      "df.iloc[:,0].value_counts().iloc[0:5,]\n",
      "\n",
      "df.iloc[:,0][~np.isin(df.iloc[:,0], missSet)]# \u53bb\u9664\u7f3a\u5931\u503c\n",
      "df.iloc[:,0][~np.isin(df.iloc[:,0], missSet)].value_counts()[0:5,]## \u53bb\u9664\u7f3a\u5931\u503c\u4e4b\u540e\u8fdb\u884c\uff08\u524d\u4e94\u4f4d\uff09\u9891\u6570\u7684\u7edf\u8ba1\n",
      "\n",
      "json_fre_name = {}\n",
      "json_fre_count = {}\n",
      "\n",
      "\n",
      "def fill_fre_top_5(x):\n",
      "    if len(x) <= 5:\n",
      "        new_array = np.full(5, np.nan)\n",
      "        new_array[0:len(x)] = x\n",
      "        return new_array\n",
      "\n",
      "\n",
      "df['ind_var1_0'].value_counts()\n",
      "len(df['imp_sal_var16_ult1'].value_counts())\n",
      "\n",
      "for i, name in enumerate(df[['ind_var1_0', 'imp_sal_var16_ult1']].columns):\n",
      "    #1.index name\n",
      "    index_name = df[name][~np.isin(df[name], missSet)].value_counts().iloc[0:5, ].index.values\n",
      "    # if the length of arrary is less than 5\n",
      "    index_name = fill_fre_top_5(index_name)\n",
      "    #store result\n",
      "    json_fre_name[name] = index_name\n",
      "\n",
      "    #2. values count\n",
      "    values_count = df[name][~np.isin(df[name], missSet)].value_counts().iloc[0:5, ].values\n",
      "    # if the length of arrary is less than 5\n",
      "    values_count = fill_fre_top_5(values_count)\n",
      "    #store result\n",
      "    json_fre_count[name] = values_count\n",
      "\n",
      "df_fre_name = pd.DataFrame(json_fre_name)[df[['ind_var1_0', 'imp_sal_var16_ult1']].columns].T\n",
      "df_fre_count = pd.DataFrame(json_fre_count)[df[['ind_var1_0', 'imp_sal_var16_ult1']].columns].T\n",
      "\n",
      "df_fre = pd.concat([df_fre_name,df_fre_count],axis=1)\n",
      "print('Frequent Percentage Running Time: %fs' % (timeit.default_timer() - start))"
     ],
     "language": "python",
     "metadata": {},
     "outputs": [
      {
       "output_type": "stream",
       "stream": "stdout",
       "text": [
        "Frequent Percentage Running Time: 0.099830s\n"
       ]
      }
     ],
     "prompt_number": 24
    },
    {
     "cell_type": "code",
     "collapsed": false,
     "input": [
      "df_fre_name"
     ],
     "language": "python",
     "metadata": {},
     "outputs": [
      {
       "html": [
        "<div style=\"max-width:1500px;overflow:auto;\">\n",
        "<style>\n",
        "    .dataframe thead tr:only-child th {\n",
        "        text-align: right;\n",
        "    }\n",
        "\n",
        "    .dataframe thead th {\n",
        "        text-align: left;\n",
        "    }\n",
        "\n",
        "    .dataframe tbody tr th {\n",
        "        vertical-align: top;\n",
        "    }\n",
        "</style>\n",
        "<table border=\"1\" class=\"dataframe\">\n",
        "  <thead>\n",
        "    <tr style=\"text-align: right;\">\n",
        "      <th></th>\n",
        "      <th>0</th>\n",
        "      <th>1</th>\n",
        "      <th>2</th>\n",
        "      <th>3</th>\n",
        "      <th>4</th>\n",
        "    </tr>\n",
        "  </thead>\n",
        "  <tbody>\n",
        "    <tr>\n",
        "      <th>ind_var1_0</th>\n",
        "      <td>0.0</td>\n",
        "      <td>1.0</td>\n",
        "      <td>NaN</td>\n",
        "      <td>NaN</td>\n",
        "      <td>NaN</td>\n",
        "    </tr>\n",
        "    <tr>\n",
        "      <th>imp_sal_var16_ult1</th>\n",
        "      <td>0.0</td>\n",
        "      <td>3000.0</td>\n",
        "      <td>1500.0</td>\n",
        "      <td>600.0</td>\n",
        "      <td>450.0</td>\n",
        "    </tr>\n",
        "  </tbody>\n",
        "</table>\n",
        "</div>"
       ],
       "metadata": {},
       "output_type": "pyout",
       "prompt_number": 25,
       "text": [
        "                      0       1       2      3      4\n",
        "ind_var1_0          0.0     1.0     NaN    NaN    NaN\n",
        "imp_sal_var16_ult1  0.0  3000.0  1500.0  600.0  450.0"
       ]
      }
     ],
     "prompt_number": 25
    },
    {
     "cell_type": "code",
     "collapsed": false,
     "input": [
      "df_fre_count"
     ],
     "language": "python",
     "metadata": {},
     "outputs": [
      {
       "html": [
        "<div style=\"max-width:1500px;overflow:auto;\">\n",
        "<style>\n",
        "    .dataframe thead tr:only-child th {\n",
        "        text-align: right;\n",
        "    }\n",
        "\n",
        "    .dataframe thead th {\n",
        "        text-align: left;\n",
        "    }\n",
        "\n",
        "    .dataframe tbody tr th {\n",
        "        vertical-align: top;\n",
        "    }\n",
        "</style>\n",
        "<table border=\"1\" class=\"dataframe\">\n",
        "  <thead>\n",
        "    <tr style=\"text-align: right;\">\n",
        "      <th></th>\n",
        "      <th>0</th>\n",
        "      <th>1</th>\n",
        "      <th>2</th>\n",
        "      <th>3</th>\n",
        "      <th>4</th>\n",
        "    </tr>\n",
        "  </thead>\n",
        "  <tbody>\n",
        "    <tr>\n",
        "      <th>ind_var1_0</th>\n",
        "      <td>75149.0</td>\n",
        "      <td>871.0</td>\n",
        "      <td>NaN</td>\n",
        "      <td>NaN</td>\n",
        "      <td>NaN</td>\n",
        "    </tr>\n",
        "    <tr>\n",
        "      <th>imp_sal_var16_ult1</th>\n",
        "      <td>75924.0</td>\n",
        "      <td>9.0</td>\n",
        "      <td>5.0</td>\n",
        "      <td>4.0</td>\n",
        "      <td>3.0</td>\n",
        "    </tr>\n",
        "  </tbody>\n",
        "</table>\n",
        "</div>"
       ],
       "metadata": {},
       "output_type": "pyout",
       "prompt_number": 26,
       "text": [
        "                          0      1    2    3    4\n",
        "ind_var1_0          75149.0  871.0  NaN  NaN  NaN\n",
        "imp_sal_var16_ult1  75924.0    9.0  5.0  4.0  3.0"
       ]
      }
     ],
     "prompt_number": 26
    },
    {
     "cell_type": "code",
     "collapsed": false,
     "input": [
      "df_fre"
     ],
     "language": "python",
     "metadata": {},
     "outputs": [
      {
       "html": [
        "<div style=\"max-width:1500px;overflow:auto;\">\n",
        "<style>\n",
        "    .dataframe thead tr:only-child th {\n",
        "        text-align: right;\n",
        "    }\n",
        "\n",
        "    .dataframe thead th {\n",
        "        text-align: left;\n",
        "    }\n",
        "\n",
        "    .dataframe tbody tr th {\n",
        "        vertical-align: top;\n",
        "    }\n",
        "</style>\n",
        "<table border=\"1\" class=\"dataframe\">\n",
        "  <thead>\n",
        "    <tr style=\"text-align: right;\">\n",
        "      <th></th>\n",
        "      <th>0</th>\n",
        "      <th>1</th>\n",
        "      <th>2</th>\n",
        "      <th>3</th>\n",
        "      <th>4</th>\n",
        "      <th>0</th>\n",
        "      <th>1</th>\n",
        "      <th>2</th>\n",
        "      <th>3</th>\n",
        "      <th>4</th>\n",
        "    </tr>\n",
        "  </thead>\n",
        "  <tbody>\n",
        "    <tr>\n",
        "      <th>ind_var1_0</th>\n",
        "      <td>0.0</td>\n",
        "      <td>1.0</td>\n",
        "      <td>NaN</td>\n",
        "      <td>NaN</td>\n",
        "      <td>NaN</td>\n",
        "      <td>75149.0</td>\n",
        "      <td>871.0</td>\n",
        "      <td>NaN</td>\n",
        "      <td>NaN</td>\n",
        "      <td>NaN</td>\n",
        "    </tr>\n",
        "    <tr>\n",
        "      <th>imp_sal_var16_ult1</th>\n",
        "      <td>0.0</td>\n",
        "      <td>3000.0</td>\n",
        "      <td>1500.0</td>\n",
        "      <td>600.0</td>\n",
        "      <td>450.0</td>\n",
        "      <td>75924.0</td>\n",
        "      <td>9.0</td>\n",
        "      <td>5.0</td>\n",
        "      <td>4.0</td>\n",
        "      <td>3.0</td>\n",
        "    </tr>\n",
        "  </tbody>\n",
        "</table>\n",
        "</div>"
       ],
       "metadata": {},
       "output_type": "pyout",
       "prompt_number": 27,
       "text": [
        "                      0       1       2      3      4        0      1    2  \\\n",
        "ind_var1_0          0.0     1.0     NaN    NaN    NaN  75149.0  871.0  NaN   \n",
        "imp_sal_var16_ult1  0.0  3000.0  1500.0  600.0  450.0  75924.0    9.0  5.0   \n",
        "\n",
        "                      3    4  \n",
        "ind_var1_0          NaN  NaN  \n",
        "imp_sal_var16_ult1  4.0  3.0  "
       ]
      }
     ],
     "prompt_number": 27
    },
    {
     "cell_type": "code",
     "collapsed": false,
     "input": [
      "good = np.array([json_fre_name['ind_var1_0'],\n",
      "                json_fre_count['ind_var1_0'],\n",
      "                json_fre_name['imp_sal_var16_ult1'],\n",
      "                json_fre_count['imp_sal_var16_ult1']])\n",
      "Mindex = pd.MultiIndex.from_product([['ind_var1_0','imp_sal_var16_ult1'],['key','nums']])\n",
      "df_good = pd.DataFrame(good,index=Mindex)"
     ],
     "language": "python",
     "metadata": {},
     "outputs": [],
     "prompt_number": 28
    },
    {
     "cell_type": "code",
     "collapsed": false,
     "input": [
      "df_good"
     ],
     "language": "python",
     "metadata": {},
     "outputs": [
      {
       "html": [
        "<div style=\"max-width:1500px;overflow:auto;\">\n",
        "<style>\n",
        "    .dataframe thead tr:only-child th {\n",
        "        text-align: right;\n",
        "    }\n",
        "\n",
        "    .dataframe thead th {\n",
        "        text-align: left;\n",
        "    }\n",
        "\n",
        "    .dataframe tbody tr th {\n",
        "        vertical-align: top;\n",
        "    }\n",
        "</style>\n",
        "<table border=\"1\" class=\"dataframe\">\n",
        "  <thead>\n",
        "    <tr style=\"text-align: right;\">\n",
        "      <th></th>\n",
        "      <th></th>\n",
        "      <th>0</th>\n",
        "      <th>1</th>\n",
        "      <th>2</th>\n",
        "      <th>3</th>\n",
        "      <th>4</th>\n",
        "    </tr>\n",
        "  </thead>\n",
        "  <tbody>\n",
        "    <tr>\n",
        "      <th rowspan=\"2\" valign=\"top\">ind_var1_0</th>\n",
        "      <th>key</th>\n",
        "      <td>0.0</td>\n",
        "      <td>1.0</td>\n",
        "      <td>NaN</td>\n",
        "      <td>NaN</td>\n",
        "      <td>NaN</td>\n",
        "    </tr>\n",
        "    <tr>\n",
        "      <th>nums</th>\n",
        "      <td>75149.0</td>\n",
        "      <td>871.0</td>\n",
        "      <td>NaN</td>\n",
        "      <td>NaN</td>\n",
        "      <td>NaN</td>\n",
        "    </tr>\n",
        "    <tr>\n",
        "      <th rowspan=\"2\" valign=\"top\">imp_sal_var16_ult1</th>\n",
        "      <th>key</th>\n",
        "      <td>0.0</td>\n",
        "      <td>3000.0</td>\n",
        "      <td>1500.0</td>\n",
        "      <td>600.0</td>\n",
        "      <td>450.0</td>\n",
        "    </tr>\n",
        "    <tr>\n",
        "      <th>nums</th>\n",
        "      <td>75924.0</td>\n",
        "      <td>9.0</td>\n",
        "      <td>5.0</td>\n",
        "      <td>4.0</td>\n",
        "      <td>3.0</td>\n",
        "    </tr>\n",
        "  </tbody>\n",
        "</table>\n",
        "</div>"
       ],
       "metadata": {},
       "output_type": "pyout",
       "prompt_number": 29,
       "text": [
        "                               0       1       2      3      4\n",
        "ind_var1_0         key       0.0     1.0     NaN    NaN    NaN\n",
        "                   nums  75149.0   871.0     NaN    NaN    NaN\n",
        "imp_sal_var16_ult1 key       0.0  3000.0  1500.0  600.0  450.0\n",
        "                   nums  75924.0     9.0     5.0    4.0    3.0"
       ]
      }
     ],
     "prompt_number": 29
    },
    {
     "cell_type": "markdown",
     "metadata": {},
     "source": [
      "## 12.Miss Values"
     ]
    },
    {
     "cell_type": "code",
     "collapsed": false,
     "input": [
      "np.sum(np.isin(df.iloc[:,0], missSet)) #\u7edf\u8ba1\u7f3a\u5931\u503c\n",
      "df_miss = df.iloc[:,0:3].apply(lambda x:np.sum(np.isin(x, missSet))) #\u904d\u5386\u6bcf\u4e00\u4e2a\u904d\u5386\u7684\u7f3a\u5931\u503c\u60c5\u51b5\n",
      "print('Miss Percentage Running Time: %fs' % (timeit.default_timer() - start))"
     ],
     "language": "python",
     "metadata": {},
     "outputs": [
      {
       "output_type": "stream",
       "stream": "stdout",
       "text": [
        "Miss Percentage Running Time: 0.417202s\n"
       ]
      }
     ],
     "prompt_number": 30
    },
    {
     "cell_type": "code",
     "collapsed": false,
     "input": [
      "df_miss"
     ],
     "language": "python",
     "metadata": {},
     "outputs": [
      {
       "metadata": {},
       "output_type": "pyout",
       "prompt_number": 31,
       "text": [
        "var3                  116\n",
        "var15                   0\n",
        "imp_ent_var16_ult1      0\n",
        "dtype: int64"
       ]
      }
     ],
     "prompt_number": 31
    }
   ],
   "metadata": {}
  }
 ]
}